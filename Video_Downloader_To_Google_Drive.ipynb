{
  "cells": [
    {
      "cell_type": "markdown",
      "metadata": {
        "id": "view-in-github",
        "colab_type": "text"
      },
      "source": [
        "<a href=\"https://colab.research.google.com/github/s0desu/colaboratory-ytdlp/blob/main/Video_Downloader_To_Google_Drive.ipynb\" target=\"_parent\"><img src=\"https://colab.research.google.com/assets/colab-badge.svg\" alt=\"Open In Colab\"/></a>"
      ]
    },
    {
      "cell_type": "markdown",
      "metadata": {
        "id": "9OQDdfMPhsPh"
      },
      "source": [
        "**yt-dlpを使用しています<br><a href=\"https://github.com/yt-dlp/yt-dlp/blob/master/supportedsites.md\">ダウンロード対応サイトはこちらをご覧ください</a>(対応サイトに載っていてもダウンロードできない場合があります)<br><br>Using yt-dlp<br><a href=\"https://github.com/yt-dlp/yt-dlp/blob/master/supportedsites.md\">Click here for download support site</a>(You may not be able to download the software even if it is listed on the supported sites)**"
      ]
    },
    {
      "cell_type": "code",
      "execution_count": null,
      "metadata": {
        "cellView": "form",
        "id": "YgtvJdNPXAyq"
      },
      "outputs": [],
      "source": [
        "#@title 前準備<br>PRELIMINARY ARRANGEMENTS\n",
        "from google.colab import drive\n",
        "drive.mount('/content/drive')\n",
        "\n",
        "!git clone https://github.com/ytdl-patched/ytdl-patched"
      ]
    },
    {
      "cell_type": "code",
      "execution_count": null,
      "metadata": {
        "cellView": "form",
        "id": "GinNTBUgXGfS"
      },
      "outputs": [],
      "source": [
        "#@title DOWNLOAD\n",
        "import shutil\n",
        "import os\n",
        "URL=\"https://www.nicovideo.jp/watch/sm9577483\" #@param {type:\"string\"}\n",
        "MODE=\"\\u6700\\u9AD8\\u753B\\u8CEA\\u306Emp4(Highest quality mp4)\" #@param [\"\\u6700\\u9AD8\\u753B\\u8CEA\\u306Emp4(Highest quality mp4)\", \"\\u6700\\u9AD8\\u97F3\\u8CEA\\u306Emp3(Best sound quality mp3)\", \"\\u6700\\u9AD8\\u97F3\\u8CEA\\u306Ewav(Best sound quality wav)\"]\n",
        "\n",
        "if MODE == \"最高画質のmp4(Highest quality mp4)\":\n",
        "  !python /content/ytdl-patched/yt_dlp/__main__.py -f \"bv*[ext=mp4]+ba[ext=m4a]/b[ext=mp4] / bv*+ba/b\" -o \"/content/%(title)s.%(ext)s\" {URL}\n",
        "elif MODE == \"最高音質のmp3(Best sound quality mp3)\":\n",
        "  title=!yt-dlp --get-title {URL}\n",
        "  title=\"\".join(title)\n",
        "  !python /content/ytdl-patched/yt_dlp/__main__.py -f \"bv*[ext=mp4]+ba[ext=m4a]/b[ext=mp4] / bv*+ba/b\" -o \"/content/a/a.mp4\" {URL}\n",
        "  !ffmpeg -i \"/content/a/a.mp4\" \"/content/a/a.mp3\"\n",
        "  os.remove('/content/a/a.mp4')\n",
        "  path='/content/a/'+str(title)+'.mp3'\n",
        "  os.rename(\"/content/a/a.mp3\", path)\n",
        "  shutil.move(path, '/content/drive/MyDrive/')\n",
        "  os.rmdir('/content/a/')\n",
        "elif MODE == \"最高音質のwav(Best sound quality wav)\":\n",
        "  title=!yt-dlp --get-title {URL}\n",
        "  title=\"\".join(title)\n",
        "  !python /content/ytdl-patched/yt_dlp/__main__.py -f \"bv*[ext=mp4]+ba[ext=m4a]/b[ext=mp4] / bv*+ba/b\" -o \"/content/a/a.mp4\" {URL}\n",
        "  !ffmpeg -i \"/content/a/a.mp4\" \"/content/a/a.wav\"\n",
        "  os.remove('/content/a/a.mp4')\n",
        "  path='/content/a/'+str(title)+'.wav'\n",
        "  os.rename(\"/content/a/a.wav\", path)\n",
        "  shutil.move(path, '/content/drive/MyDrive/')\n",
        "  os.rmdir('/content/a/')"
      ]
    }
  ],
  "metadata": {
    "colab": {
      "collapsed_sections": [],
      "name": "Video_Downloader_To_Google_Drive.ipynb",
      "provenance": [],
      "include_colab_link": true
    },
    "kernelspec": {
      "display_name": "Python 3",
      "name": "python3"
    }
  },
  "nbformat": 4,
  "nbformat_minor": 0
}