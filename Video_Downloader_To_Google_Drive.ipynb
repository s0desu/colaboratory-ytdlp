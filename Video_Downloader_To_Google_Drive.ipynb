{
  "cells": [
    {
      "cell_type": "markdown",
      "metadata": {
        "id": "view-in-github",
        "colab_type": "text"
      },
      "source": [
        "<a href=\"https://colab.research.google.com/github/s0desu/colaboratory-ytdlp/blob/main/Video_Downloader_To_Google_Drive.ipynb\" target=\"_parent\"><img src=\"https://colab.research.google.com/assets/colab-badge.svg\" alt=\"Open In Colab\"/></a>"
      ]
    },
    {
      "cell_type": "markdown",
      "metadata": {
        "id": "9OQDdfMPhsPh"
      },
      "source": [
        "**yt-dlpを使用しています<br><a href=\"https://github.com/yt-dlp/yt-dlp/blob/master/supportedsites.md\">ダウンロード対応サイトはこちらをご覧ください</a>(対応サイトに載っていてもダウンロードできない場合があります)<br><br>Using yt-dlp<br><a href=\"https://github.com/yt-dlp/yt-dlp/blob/master/supportedsites.md\">Click here for download support site</a>(You may not be able to download the software even if it is listed on the supported sites)**"
      ]
    },
    {
      "cell_type": "code",
      "execution_count": null,
      "metadata": {
        "cellView": "form",
        "id": "YgtvJdNPXAyq",
        "outputId": "e3b8a1cf-e172-470d-d46e-adcd6e7297a9",
        "colab": {
          "base_uri": "https://localhost:8080/"
        }
      },
      "outputs": [
        {
          "output_type": "stream",
          "name": "stdout",
          "text": [
            "Mounted at /content/drive\n",
            "Cloning into 'ytdl-patched'...\n",
            "remote: Enumerating objects: 126514, done.\u001b[K\n",
            "remote: Counting objects: 100% (6133/6133), done.\u001b[K\n",
            "remote: Compressing objects: 100% (2050/2050), done.\u001b[K\n",
            "remote: Total 126514 (delta 4571), reused 5584 (delta 4082), pack-reused 120381\u001b[K\n",
            "Receiving objects: 100% (126514/126514), 36.13 MiB | 13.38 MiB/s, done.\n",
            "^C\n"
          ]
        }
      ],
      "source": [
        "#@title 前準備<br>PRELIMINARY ARRANGEMENTS\n",
        "from google.colab import drive\n",
        "drive.mount('/content/drive')\n",
        "\n",
        "!pip install yt-dlp"
      ]
    },
    {
      "cell_type": "code",
      "execution_count": null,
      "metadata": {
        "cellView": "form",
        "id": "GinNTBUgXGfS",
        "outputId": "71eb44b1-019c-4add-c81c-1c92c81b2825",
        "colab": {
          "base_uri": "https://localhost:8080/"
        }
      },
      "outputs": [
        {
          "output_type": "stream",
          "name": "stdout",
          "text": [
            "python3: can't open file '/content/ytdl-patched/yt_dlp/__main__.py': [Errno 2] No such file or directory\n"
          ]
        }
      ],
      "source": [
        "#@title DOWNLOAD\n",
        "import shutil\n",
        "import os\n",
        "URL=\"https://www.nicovideo.jp/watch/sm9\" #@param {type:\"string\"}\n",
        "MODE=\"\\u6700\\u9AD8\\u97F3\\u8CEA\\u306Ewav(Best sound quality wav)\" #@param [\"\\u6700\\u9AD8\\u753B\\u8CEA\\u306Emp4(Highest quality mp4)\", \"\\u6700\\u9AD8\\u97F3\\u8CEA\\u306Emp3(Best sound quality mp3)\", \"\\u6700\\u9AD8\\u97F3\\u8CEA\\u306Ewav(Best sound quality wav)\"]\n",
        "\n",
        "if MODE == \"最高画質のmp4(Highest quality mp4)\":\n",
        "  !yt-dlp -f \"bv*[ext=mp4]+ba[ext=m4a]/b[ext=mp4] / bv*+ba/b\" -o \"/content/%(title)s.%(ext)s\" {URL}\n",
        "elif MODE == \"最高音質のmp3(Best sound quality mp3)\":\n",
        "  title=!yt-dlp --get-title {URL}\n",
        "  title=\"\".join(title)\n",
        "  !yt-dlp -f \"bv*[ext=mp4]+ba[ext=m4a]/b[ext=mp4] / bv*+ba/b\" -o \"/content/a/a.mp4\" {URL}\n",
        "  !ffmpeg -i \"/content/a/a.mp4\" \"/content/a/a.mp3\"\n",
        "  os.remove('/content/a/a.mp4')\n",
        "  path='/content/a/'+str(title)+'.mp3'\n",
        "  os.rename(\"/content/a/a.mp3\", path)\n",
        "  shutil.move(path, '/content/drive/MyDrive/')\n",
        "  os.rmdir('/content/a/')\n",
        "elif MODE == \"最高音質のwav(Best sound quality wav)\":\n",
        "  title=!yt-dlp --get-title {URL}\n",
        "  title=\"\".join(title)\n",
        "  !yt-dlp -f \"bv*[ext=mp4]+ba[ext=m4a]/b[ext=mp4] / bv*+ba/b\" -o \"/content/a/a.mp4\" {URL}\n",
        "  !ffmpeg -i \"/content/a/a.mp4\" \"/content/a/a.wav\"\n",
        "  os.remove('/content/a/a.mp4')\n",
        "  path='/content/a/'+str(title)+'.wav'\n",
        "  os.rename(\"/content/a/a.wav\", path)\n",
        "  shutil.move(path, '/content/drive/MyDrive/')\n",
        "  os.rmdir('/content/a/')"
      ]
    }
  ],
  "metadata": {
    "colab": {
      "collapsed_sections": [],
      "name": "Video_Downloader_To_Google_Drive.ipynb のコピー",
      "provenance": [],
      "include_colab_link": true
    },
    "kernelspec": {
      "display_name": "Python 3",
      "name": "python3"
    }
  },
  "nbformat": 4,
  "nbformat_minor": 0
}