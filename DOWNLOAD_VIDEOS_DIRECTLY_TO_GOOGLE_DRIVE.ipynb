{
  "cells": [
    {
      "cell_type": "markdown",
      "metadata": {
        "id": "view-in-github",
        "colab_type": "text"
      },
      "source": [
        "<a href=\"https://colab.research.google.com/github/s0desu/colaboratory-ytdlp/blob/main/DOWNLOAD_VIDEOS_DIRECTLY_TO_GOOGLE_DRIVE.ipynb\" target=\"_parent\"><img src=\"https://colab.research.google.com/assets/colab-badge.svg\" alt=\"Open In Colab\"/></a>"
      ]
    },
    {
      "cell_type": "markdown",
      "source": [
        "**yt-dlpを使用しています<br><a href=\"https://github.com/yt-dlp/yt-dlp/blob/master/supportedsites.md\">ダウンロード対応サイトはこちらをご覧ください</a>(対応サイトに載っていてもダウンロードできない場合があります)<br><br>Using yt-dlp<br><a href=\"https://github.com/yt-dlp/yt-dlp/blob/master/supportedsites.md\">Click here for download support site</a>(You may not be able to download the software even if it is listed on the supported sites)**"
      ],
      "metadata": {
        "id": "9OQDdfMPhsPh"
      }
    },
    {
      "cell_type": "code",
      "execution_count": null,
      "metadata": {
        "id": "X55Nskil8Law",
        "cellView": "form"
      },
      "outputs": [],
      "source": [
        "#@title DOWNLOAD\n",
        "URL = \"https://www.nicovideo.jp/watch/sm9\" #@param {type:\"string\"}\n",
        "\n",
        "from google.colab import drive\n",
        "drive.mount('/content/drive')\n",
        "\n",
        "!pip install yt-dlp\n",
        "\n",
        "!yt-dlp -v {URL} -f \"bv*[ext=mp4]+ba[ext=m4a]/b[ext=mp4] / bv*+ba/b\" -o \"/content/drive/MyDrive/%(title)s.%(ext)s\"                 "
      ]
    }
  ],
  "metadata": {
    "colab": {
      "collapsed_sections": [],
      "name": "DOWNLOAD_VIDEOS_DIRECTLY_TO_GOOGLE_DRIVE.ipynb",
      "provenance": [],
      "include_colab_link": true
    },
    "kernelspec": {
      "display_name": "Python 3",
      "name": "python3"
    }
  },
  "nbformat": 4,
  "nbformat_minor": 0
}