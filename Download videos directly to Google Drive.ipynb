{
  "cells": [
    {
      "cell_type": "markdown",
      "metadata": {
        "id": "view-in-github",
        "colab_type": "text"
      },
      "source": [
        "<a href=\"https://colab.research.google.com/github/s0desu/colaboratory-ytdlp/blob/main/Download%20videos%20directly%20to%20Google%20Drive.ipynb\" target=\"_parent\"><img src=\"https://colab.research.google.com/assets/colab-badge.svg\" alt=\"Open In Colab\"/></a>"
      ]
    },
    {
      "cell_type": "markdown",
      "source": [
        "**上から順に<img height=\"30px\" src=\"https://files.catbox.moe/6ioon9.jpeg\">を押していってください<br>yt-dlpを使用しています<br><a href=\"https://github.com/yt-dlp/yt-dlp/blob/master/supportedsites.md\">ダウンロード対応サイトはこちらをご覧ください</a>(対応サイトに載っていてもダウンロードできない場合があります)<br><br>Press the <img height=\"30px\" src=\"https://files.catbox.moe/6ioon9.jpeg\"> in order from the top<br>Using yt-dlp<br><a href=\"https://github.com/yt-dlp/yt-dlp/blob/master/supportedsites.md\">Click here for download support site</a>(You may not be able to download the software even if it is listed on the supported sites)**"
      ],
      "metadata": {
        "id": "9OQDdfMPhsPh"
      }
    },
    {
      "cell_type": "code",
      "execution_count": null,
      "metadata": {
        "id": "3ys_TX6q6Kld"
      },
      "outputs": [],
      "source": [
        "from google.colab import drive\n",
        "drive.mount('/content/drive')"
      ]
    },
    {
      "cell_type": "code",
      "execution_count": null,
      "metadata": {
        "id": "UL7pnNDo_wFJ"
      },
      "outputs": [],
      "source": [
        "!pip install yt-dlp"
      ]
    },
    {
      "cell_type": "markdown",
      "source": [
        "**下のURLの部分を欲しい動画のURLに置き換えてください<br>Please replace the URL below with the URL of the video you want**"
      ],
      "metadata": {
        "id": "L4__5mb-uEk3"
      }
    },
    {
      "cell_type": "code",
      "execution_count": null,
      "metadata": {
        "id": "X55Nskil8Law"
      },
      "outputs": [],
      "source": [
        "!yt-dlp -v \"https://www.nicovideo.jp/watch/sm9\" -f \"bv*[ext=mp4]+ba[ext=m4a]/b[ext=mp4] / bv*+ba/b\" -o \"/content/drive/MyDrive/%(title)s.%(ext)s\"                 "
      ]
    }
  ],
  "metadata": {
    "colab": {
      "collapsed_sections": [],
      "name": "Google Driveに動画を直接ダウンロードする",
      "provenance": [],
      "include_colab_link": true
    },
    "kernelspec": {
      "display_name": "Python 3",
      "name": "python3"
    }
  },
  "nbformat": 4,
  "nbformat_minor": 0
}